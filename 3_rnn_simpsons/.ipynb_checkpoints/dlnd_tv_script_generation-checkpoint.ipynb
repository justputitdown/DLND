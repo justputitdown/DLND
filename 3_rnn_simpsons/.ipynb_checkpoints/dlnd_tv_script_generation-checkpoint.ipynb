{
 "cells": [
  {
   "cell_type": "markdown",
   "metadata": {},
   "source": [
    "# TV Script Generation\n",
    "In this project, we'll generate your own [Simpsons](https://en.wikipedia.org/wiki/The_Simpsons) TV scripts using RNNs.  We'll be using part of the [Simpsons dataset](https://www.kaggle.com/wcukierski/the-simpsons-by-the-data) of scripts from 27 seasons.  The Neural Network you'll build will generate a new TV script for a scene.\n",
    "## Get the Data\n",
    "The data is already saved in a txt file."
   ]
  },
  {
   "cell_type": "code",
   "execution_count": 1,
   "metadata": {},
   "outputs": [],
   "source": [
    "import helper #load & preprocess data as well as pickling!\n",
    "\n",
    "data_dir = './data/script.txt'\n",
    "text = helper.load_data(data_dir)\n"
   ]
  },
  {
   "cell_type": "markdown",
   "metadata": {},
   "source": [
    "## Data Stats"
   ]
  },
  {
   "cell_type": "code",
   "execution_count": 2,
   "metadata": {},
   "outputs": [
    {
     "name": "stdout",
     "output_type": "stream",
     "text": [
      "Dataset Stats\n",
      "Roughly the number of unique words: 136668\n",
      "Number of lines: 158270\n",
      "Average number of words in each line: 11.076224173880078\n",
      "\n",
      "The sentences 0 to 20:\n",
      "﻿Marge_Simpson: Ooo, careful, Homer.\n",
      "Homer_Simpson: There's no time to be careful.\n",
      "Homer_Simpson: We're late.\n",
      "(Springfield Elementary School: Ext. springfield elementary school - establishing - night)\n",
      "(Auditorium: int. auditorium - night)\n",
      "Marge_Simpson: (HUSHED VOICE) Sorry, Excuse us. Pardon me...\n",
      "Homer_Simpson: (SIMULTANEOUSLY) Hey, Norman. How's it going? So you got dragged down here, too... heh, heh. How ya doing, Fred? Excuse me, Fred.\n",
      "Homer_Simpson: Pardon my galoshes. (CHUCKLES)\n",
      "Seymour_Skinner: (UNREHEARSED) Wasn't that wonderful? And now, \"Santas of Many Lands,\" as presented by the entire second grade class.\n",
      "Marge_Simpson: Oh... Lisa's class.\n",
      "JANEY: (SHY AND NERVOUS) Frohlich weihnachten -- that's German for Merry Christmas. In Germany, Santa's servant Ruprecht gives presents to good children and whipping rods to the parents of bad ones.\n",
      "Todd_Flanders: Meri Kurimasu. I am Hotseiosha, a Japanese priest who acts like Santa Claus. I have eyes in the back of my head so children better behave when I'm nearby.\n",
      "Dewey_Largo: And now, presenting Lisa Simpson, as Tawanga, the Santa Claus of the South Seas.\n",
      "Homer_Simpson: Oh, it's Lisa. That's ours.\n",
      "Seymour_Skinner: The fourth grade will now favor us with a melody, medley of holiday flavorites.\n",
      "Children: (SING) DASHING THROUGH THE SNOW / IN A ONE-HORSE OPEN SLEIGH / O'ER THE FIELDS WE GO / LAUGHING ALL THE WAY... HA HA HA... BELLS ON BOB-TAIL RING / MAKING SPIRITS BRIGHT / WHAT FUN IT IS TO RIDE AND SING THIS SLEIGHING SONG TONIGHT!\n",
      "Marge_Simpson: (WHISPERS) Isn't Bart sweet, Homer? He sings like a little angel.\n",
      "Bart_Simpson: (SINGS) \"JINGLE BELLS, BATMAN SMELLS, ROBIN LAID AN EGG / THE BATMOBILE BROKE ITS WHEEL, THE JOKER GOT AWAY.\"\n",
      "Seymour_Skinner: The fifth grade will now favor us with a scene from Charles Dickens' \"A Christmas Carol\".\n",
      "Homer_Simpson: (GROANS) How many grades does this school have?\n"
     ]
    }
   ],
   "source": [
    "view_sentence_range = (0, 20)\n",
    "\n",
    "import numpy as np\n",
    "\n",
    "print('Dataset Stats')\n",
    "print('Roughly the number of unique words: {}'.format(len({word: None for word in text.split()})))\n",
    "scenes = text.split('\\n\\n')\n",
    "#print('Number of scenes: {}'.format(len(scenes)))\n",
    "sentence_count_scene = [scene.count('\\n') for scene in scenes]\n",
    "#print('Average number of sentences in each scene: {}'.format(np.average(sentence_count_scene)))\n",
    "sentences = [sentence for scene in scenes for sentence in scene.split('\\n')]\n",
    "print('Number of lines: {}'.format(len(sentences)))\n",
    "word_count_sentence = [len(sentence.split()) for sentence in sentences]\n",
    "print('Average number of words in each line: {}'.format(np.average(word_count_sentence)))\n",
    "\n",
    "print()\n",
    "print('The sentences {} to {}:'.format(*view_sentence_range))\n",
    "print('\\n'.join(text.split('\\n')[view_sentence_range[0]:view_sentence_range[1]]))"
   ]
  },
  {
   "cell_type": "markdown",
   "metadata": {},
   "source": [
    "## Implement Preprocessing Functions\n",
    "The first thing to do to any dataset is preprocessing.  Implement the following preprocessing functions below:\n",
    "- Lookup Table\n",
    "- Tokenize Punctuation\n",
    "\n",
    "### Lookup Table\n",
    "To create a word embedding, you first need to transform the words to ids.  In this function, create two dictionaries:\n",
    "- Dictionary to go from the words to an id, we'll call `vocab_to_int`\n",
    "- Dictionary to go from the id to word, we'll call `int_to_vocab`\n",
    "\n",
    "Return these dictionaries in the following tuple `(vocab_to_int, int_to_vocab)`"
   ]
  },
  {
   "cell_type": "code",
   "execution_count": 3,
   "metadata": {},
   "outputs": [],
   "source": [
    "import numpy as np\n",
    "\n",
    "def create_lookup_tables(text):\n",
    "    \"\"\"\n",
    "    Create lookup tables for vocabulary\n",
    "    :param text: The text of tv scripts split into words\n",
    "    :return: A tuple of dicts (vocab_to_int, int_to_vocab)\n",
    "    \"\"\"\n",
    "    \n",
    "    'Set removes duplicates...'    \n",
    "    'need id int, could use counter and itterate through however if i ennumerate the set that should do'\n",
    "    'first part of enumerate is the index which i can use for the id'\n",
    "    'i can split the enumeration using list comprehension' \n",
    "           \n",
    "    vocab_to_int = {the_word:the_index for the_index, the_word in enumerate(set(text))}\n",
    "    int_to_vocab = {the_other_index:the_other_word for the_other_index, the_other_word in enumerate(set(text))}\n",
    "    \n",
    "    return (vocab_to_int, int_to_vocab)\n"
   ]
  },
  {
   "cell_type": "markdown",
   "metadata": {},
   "source": [
    "### Tokenize Punctuation\n",
    "We'll be splitting the script into a word array using spaces as delimiters.  However, punctuations like periods and exclamation marks make it hard for the neural network to distinguish between the word \"bye\" and \"bye!\".\n",
    "\n",
    "Implement the function `token_lookup` to return a dict that will be used to tokenize symbols like \"!\" into \"||Exclamation_Mark||\".  Create a dictionary for the following symbols where the symbol is the key and value is the token:\n",
    "- Period ( . )\n",
    "- Comma ( , )\n",
    "- Quotation Mark ( \" )\n",
    "- Semicolon ( ; )\n",
    "- Exclamation mark ( ! )\n",
    "- Question mark ( ? )\n",
    "- Left Parentheses ( ( )\n",
    "- Right Parentheses ( ) )\n",
    "- Dash ( -- )\n",
    "- Return ( \\n )\n",
    "\n",
    "This dictionary will be used to token the symbols and add the delimiter (space) around it.  This separates the symbols as it's own word, making it easier for the neural network to predict on the next word. Make sure you don't use a token that could be confused as a word. Instead of using the token \"dash\", try using something like \"||dash||\"."
   ]
  },
  {
   "cell_type": "code",
   "execution_count": 4,
   "metadata": {},
   "outputs": [],
   "source": [
    "def token_lookup():\n",
    "    \"\"\"\n",
    "    Generate a dict to turn punctuation into a token.\n",
    "    :return: Tokenize dictionary where the key is the punctuation and the value is the token\n",
    "    \"\"\"\n",
    "   \n",
    "    'key:value'\n",
    "    'create new dictionary'\n",
    "    punctuation_dictionary  = {\".\":\"||prd||\", \",\":\"||cma||\", \"\\\"\":\"||qot||\", \";\":\"||smi||\", \"!\":\"||exc||\", \"?\":\"||qtm||\", \"(\":\"||lpr||\", \")\":\"||rpr||\", \"--\":\"||dsh||\", \"\\n\":\"||rtn||\"}\n",
    "    \n",
    "    return punctuation_dictionary\n"
   ]
  },
  {
   "cell_type": "markdown",
   "metadata": {},
   "source": [
    "## Preprocess all the data and save it\n",
    "Running the code cell below will preprocess all the data and save it to file."
   ]
  },
  {
   "cell_type": "code",
   "execution_count": 5,
   "metadata": {},
   "outputs": [],
   "source": [
    "# Preprocess Training, Validation, and Testing Data\n",
    "helper.preprocess_and_save_data(data_dir, token_lookup, create_lookup_tables)"
   ]
  },
  {
   "cell_type": "markdown",
   "metadata": {},
   "source": [
    "# Check Point\n",
    "This is your first checkpoint. If you ever decide to come back to this notebook or have to restart the notebook, you can start from here. The preprocessed data has been saved to disk."
   ]
  },
  {
   "cell_type": "code",
   "execution_count": 6,
   "metadata": {},
   "outputs": [],
   "source": [
    "import helper\n",
    "import numpy as np\n",
    "\n",
    "int_text, vocab_to_int, int_to_vocab, token_dict = helper.load_preprocess()"
   ]
  },
  {
   "cell_type": "markdown",
   "metadata": {},
   "source": [
    "## Build the Neural Network\n",
    "You'll build the components necessary to build a RNN by implementing the following functions below:\n",
    "- get_inputs\n",
    "- get_init_cell\n",
    "- get_embed\n",
    "- build_rnn\n",
    "- build_nn\n",
    "- get_batches\n",
    "\n",
    "### Check the Version of TensorFlow and Access to GPU"
   ]
  },
  {
   "cell_type": "code",
   "execution_count": 7,
   "metadata": {},
   "outputs": [
    {
     "name": "stdout",
     "output_type": "stream",
     "text": [
      "TensorFlow Version: 1.1.0\n",
      "Default GPU Device: /gpu:0\n"
     ]
    }
   ],
   "source": [
    "from distutils.version import LooseVersion\n",
    "import warnings\n",
    "import tensorflow as tf\n",
    "\n",
    "# Check TensorFlow Version\n",
    "assert LooseVersion(tf.__version__) >= LooseVersion('1.0'), 'Please use TensorFlow version 1.0 or newer'\n",
    "print('TensorFlow Version: {}'.format(tf.__version__))\n",
    "\n",
    "# Check for a GPU\n",
    "if not tf.test.gpu_device_name():\n",
    "    warnings.warn('No GPU found. Please use a GPU to train your neural network.')\n",
    "else:\n",
    "    print('Default GPU Device: {}'.format(tf.test.gpu_device_name()))"
   ]
  },
  {
   "cell_type": "markdown",
   "metadata": {},
   "source": [
    "### Input\n",
    "Implement the `get_inputs()` function to create TF Placeholders for the Neural Network.  It should create the following placeholders:\n",
    "- Input text placeholder named \"input\" using the [TF Placeholder](https://www.tensorflow.org/api_docs/python/tf/placeholder) `name` parameter.\n",
    "- Targets placeholder\n",
    "- Learning Rate placeholder\n",
    "\n",
    "Return the placeholders in the following tuple `(Input, Targets, LearningRate)`"
   ]
  },
  {
   "cell_type": "code",
   "execution_count": 8,
   "metadata": {},
   "outputs": [],
   "source": [
    "def get_inputs():\n",
    "    \"\"\"\n",
    "    Create TF Placeholders for input, targets, and learning rate.\n",
    "    :return: Tuple (input, targets, learning rate)\n",
    "    \"\"\"\n",
    "    Input = tf.placeholder(tf.int32, [None, None], name='input')\n",
    "    Targets = tf.placeholder(tf.int32, [None, None], name='target')\n",
    "    LearningRate = tf.placeholder(tf.float32, name='learningrate')\n",
    "    return (Input, Targets, LearningRate)\n"
   ]
  },
  {
   "cell_type": "markdown",
   "metadata": {},
   "source": [
    "### Build RNN Cell and Initialize\n",
    "Stack one or more [`BasicLSTMCells`](https://www.tensorflow.org/api_docs/python/tf/contrib/rnn/BasicLSTMCell) in a [`MultiRNNCell`](https://www.tensorflow.org/api_docs/python/tf/contrib/rnn/MultiRNNCell).\n",
    "- The Rnn size should be set using `rnn_size`\n",
    "- Initalize Cell State using the MultiRNNCell's [`zero_state()`](https://www.tensorflow.org/api_docs/python/tf/contrib/rnn/MultiRNNCell#zero_state) function\n",
    "    - Apply the name \"initial_state\" to the initial state using [`tf.identity()`](https://www.tensorflow.org/api_docs/python/tf/identity)\n",
    "\n",
    "Return the cell and initial state in the following tuple `(Cell, InitialState)`"
   ]
  },
  {
   "cell_type": "code",
   "execution_count": 9,
   "metadata": {},
   "outputs": [],
   "source": [
    "# Number of Epochs\n",
    "num_epochs = 25\n",
    "# Number of Epochs\n",
    "num_laz = 1\n",
    "# Batch Size\n",
    "batch_size = 256\n",
    "# RNN Size\n",
    "rnn_size = 256\n",
    "# Embedding Dimension Size\n",
    "embed_dim = 256\n",
    "# Sequence Length\n",
    "seq_length = 15\n",
    "# Learning Rate\n",
    "learning_rate = 0.001\n",
    "# Show stats for every n number of batches\n",
    "show_every_n_batches = 1287\n",
    "\n",
    "save_dir = './save'"
   ]
  },
  {
   "cell_type": "code",
   "execution_count": 10,
   "metadata": {},
   "outputs": [],
   "source": [
    "def get_init_cell(batch_size, rnn_size, d_out=1, n_of_l=num_laz):\n",
    "    \"\"\"\n",
    "    Create an RNN Cell and initialize it.\n",
    "    :param batch_size: Size of batches\n",
    "    :param rnn_size: Size of RNNs\n",
    "    :return: Tuple (cell, initialize state)\n",
    "    \"\"\"\n",
    "    \n",
    "    def build_cell(lstm_size, keep_prob):\n",
    "        # Use a basic LSTM cell\n",
    "        lstm = tf.contrib.rnn.BasicLSTMCell(lstm_size)\n",
    "        \n",
    "        # Add dropout to the cell\n",
    "        drop = tf.contrib.rnn.DropoutWrapper(lstm, output_keep_prob=keep_prob)\n",
    "        return drop\n",
    "    \n",
    "    Cell = tf.contrib.rnn.MultiRNNCell([build_cell(rnn_size, d_out) for _ in range(n_of_l)])\n",
    "    InitialState = Cell.zero_state(batch_size, tf.float32)\n",
    "    InitialState = tf.identity(InitialState, 'initial_state')\n",
    "    return (Cell, InitialState)\n"
   ]
  },
  {
   "cell_type": "markdown",
   "metadata": {},
   "source": [
    "### Word Embedding\n",
    "Apply embedding to `input_data` using TensorFlow.  Return the embedded sequence."
   ]
  },
  {
   "cell_type": "code",
   "execution_count": 11,
   "metadata": {},
   "outputs": [],
   "source": [
    "def get_embed(input_data, vocab_size, embed_dim):\n",
    "    \"\"\"\n",
    "    Create embedding for <input_data>.\n",
    "    :param input_data: TF placeholder for text input.\n",
    "    :param vocab_size: Number of words in vocabulary.\n",
    "    :param embed_dim: Number of embedding dimensions\n",
    "    :return: Embedded input.\n",
    "    \"\"\"    \n",
    "    embed = tf.Variable(tf.random_uniform((vocab_size, embed_dim), -1, 1))\n",
    "    return tf.nn.embedding_lookup(embed, input_data)\n",
    "\n"
   ]
  },
  {
   "cell_type": "markdown",
   "metadata": {},
   "source": [
    "### Build RNN\n",
    "You created a RNN Cell in the `get_init_cell()` function.  Time to use the cell to create a RNN.\n",
    "- Build the RNN using the [`tf.nn.dynamic_rnn()`](https://www.tensorflow.org/api_docs/python/tf/nn/dynamic_rnn)\n",
    " - Apply the name \"final_state\" to the final state using [`tf.identity()`](https://www.tensorflow.org/api_docs/python/tf/identity)\n",
    "\n",
    "Return the outputs and final_state state in the following tuple `(Outputs, FinalState)` "
   ]
  },
  {
   "cell_type": "code",
   "execution_count": 12,
   "metadata": {},
   "outputs": [],
   "source": [
    "def build_rnn(cell, inputs):\n",
    "    \"\"\"\n",
    "    Create a RNN using a RNN Cell\n",
    "    :param cell: RNN Cell\n",
    "    :param inputs: Input text data\n",
    "    :return: Tuple (Outputs, Final State)\n",
    "    \"\"\"\n",
    "    \n",
    "    Outputs, FinalState = tf.nn.dynamic_rnn(cell, inputs, dtype=tf.float32)\n",
    "    FinalState = tf.identity(FinalState, name='final_state')\n",
    "    \n",
    "    return (Outputs, FinalState)\n"
   ]
  },
  {
   "cell_type": "markdown",
   "metadata": {},
   "source": [
    "### Build the Neural Network\n",
    "Apply the functions you implemented above to:\n",
    "- Apply embedding to `input_data` using your `get_embed(input_data, vocab_size, embed_dim)` function.\n",
    "- Build RNN using `cell` and your `build_rnn(cell, inputs)` function.\n",
    "- Apply a fully connected layer with a linear activation and `vocab_size` as the number of outputs.\n",
    "\n",
    "Return the logits and final state in the following tuple (Logits, FinalState) "
   ]
  },
  {
   "cell_type": "code",
   "execution_count": 13,
   "metadata": {},
   "outputs": [],
   "source": [
    "def build_nn(cell, rnn_size, input_data, vocab_size, embed_dim):\n",
    "    \"\"\"\n",
    "    Build part of the neural network\n",
    "    :param cell: RNN cell\n",
    "    :param rnn_size: Size of rnns\n",
    "    :param input_data: Input data\n",
    "    :param vocab_size: Vocabulary size\n",
    "    :param embed_dim: Number of embedding dimensions\n",
    "    :return: Tuple (Logits, FinalState)\n",
    "    \"\"\"\n",
    "\n",
    "    emb_layer = get_embed(input_data, vocab_size, embed_dim)\n",
    "    outputs, FinalState = build_rnn(cell, emb_layer)\n",
    "    Logits = tf.layers.dense(outputs, vocab_size, activation=None, use_bias=True)\n",
    "    return (Logits, FinalState)\n",
    "\n"
   ]
  },
  {
   "cell_type": "markdown",
   "metadata": {},
   "source": [
    "### Batches\n",
    "Implement `get_batches` to create batches of input and targets using `int_text`.  The batches should be a Numpy array with the shape `(number of batches, 2, batch size, sequence length)`. Each batch contains two elements:\n",
    "- The first element is a single batch of **input** with the shape `[batch size, sequence length]`\n",
    "- The second element is a single batch of **targets** with the shape `[batch size, sequence length]`\n"
   ]
  },
  {
   "cell_type": "code",
   "execution_count": 14,
   "metadata": {},
   "outputs": [],
   "source": [
    "def get_batches(int_text, batch_size, seq_length):\n",
    "    \"\"\"\n",
    "    Return batches of input and target\n",
    "    :param int_text: Text with the words replaced by their ids\n",
    "    :param batch_size: The size of batch\n",
    "    :param seq_length: The length of sequence\n",
    "    :return: Batches as a Numpy array\n",
    "    \"\"\"\n",
    "    # Get the number of characters per batch and number of batches we can make\n",
    "   \n",
    "    n_batches=len(int_text)//(batch_size * seq_length)    \n",
    "   \n",
    "    nx_arr = np.array(int_text[:n_batches * (batch_size  * seq_length)])    \n",
    "    \n",
    "    x_text = nx_arr.reshape(-1, seq_length)\n",
    "    y_text = np.roll(nx_arr, -1).reshape(-1, seq_length)\n",
    "    \n",
    "    opt = np.zeros([n_batches, 2, batch_size, seq_length], dtype=np.int32)\n",
    "    for idx in range(0, x_text.shape[0]):\n",
    "        m = idx % n_batches\n",
    "        n = idx // n_batches\n",
    "        opt[m,0,n,:] = x_text[idx,:]\n",
    "        opt[m,1,n,:] = y_text[idx,:]\n",
    "    return opt\n",
    "\n"
   ]
  },
  {
   "cell_type": "markdown",
   "metadata": {},
   "source": [
    "## Neural Network Training\n",
    "### Hyperparameters\n",
    "Tune the following parameters:\n",
    "\n",
    "- Set `num_epochs` to the number of epochs.\n",
    "- Set `batch_size` to the batch size.\n",
    "- Set `rnn_size` to the size of the RNNs.\n",
    "- Set `embed_dim` to the size of the embedding.\n",
    "- Set `seq_length` to the length of sequence.\n",
    "- Set `learning_rate` to the learning rate.\n",
    "- Set `show_every_n_batches` to the number of batches the neural network should print progress."
   ]
  },
  {
   "cell_type": "markdown",
   "metadata": {},
   "source": [
    "## Test Parameters Skip this section if you have set the params you want above...\n",
    "change r_check to True to run\n",
    "See which parameters are most effective."
   ]
  },
  {
   "cell_type": "code",
   "execution_count": 15,
   "metadata": {},
   "outputs": [],
   "source": [
    "from tensorflow.contrib import seq2seq\n",
    "\n",
    "\n",
    "r_check = False\n",
    "\n",
    "# Number of Epochs\n",
    "b_num_epochs = 0\n",
    "# Number of Epochs\n",
    "b_num_laz = 1\n",
    "# Batch Size\n",
    "b_batch_size = 0\n",
    "# RNN Size\n",
    "b_rnn_size = 0\n",
    "# Embedding Dimension Size\n",
    "b_embed_dim = 0\n",
    "# Sequence Length\n",
    "b_seq_length = 0\n",
    "# Learning Rate\n",
    "b_learning_rate = 1\n",
    "# Show stats for every n number of batches\n",
    "b_show_every_n_batches = 0\n",
    "# Show stats for every n number of batches\n",
    "b_t_loss = 50\n",
    "\n",
    "\n",
    "\n",
    "if r_check == True:\n",
    "    from tensorflow.contrib import seq2seq\n",
    "\n",
    "    for batch_size_ in [128, 256]:\n",
    "        for rnn_size_ in [128, 256, 512]:\n",
    "            for num_laz_ in [1, 2, 3]:\n",
    "                for learning_rate_ in [0.01, 0.001, 0.0001]:\n",
    "                    batch_size=batch_size_\n",
    "                    rnn_size=rnn_size_\n",
    "                    num_laz=num_laz_\n",
    "                    learning_rate=learning_rate_\n",
    "                    train_graph = tf.Graph()\n",
    "                    with train_graph.as_default():\n",
    "                        vocab_size = len(int_to_vocab)\n",
    "                        input_text, targets, lr = get_inputs()\n",
    "                        input_data_shape = tf.shape(input_text)\n",
    "                        cell, initial_state = get_init_cell(input_data_shape[0], rnn_size)\n",
    "                        logits, final_state = build_nn(cell, rnn_size, input_text, vocab_size, embed_dim)\n",
    "\n",
    "                        # Probabilities for generating words\n",
    "                        probs = tf.nn.softmax(logits, name='probs')\n",
    "\n",
    "                        # Loss function\n",
    "                        cost = seq2seq.sequence_loss(\n",
    "                            logits,\n",
    "                            targets,\n",
    "                            tf.ones([input_data_shape[0], input_data_shape[1]]))\n",
    "\n",
    "                        # Optimizer\n",
    "                        optimizer = tf.train.AdamOptimizer(lr)\n",
    "\n",
    "                        # Gradient Clipping\n",
    "                        gradients = optimizer.compute_gradients(cost)\n",
    "                        capped_gradients = [(tf.clip_by_value(grad, -1., 1.), var) for grad, var in gradients if grad is not None]\n",
    "                        train_op = optimizer.apply_gradients(capped_gradients)\n",
    "\n",
    "                    batches = get_batches(int_text, batch_size, seq_length)\n",
    "\n",
    "                    with tf.Session(graph=train_graph) as sess:\n",
    "                        sess.run(tf.global_variables_initializer())\n",
    "\n",
    "                        for epoch_i in range(num_epochs):\n",
    "                            state = sess.run(initial_state, {input_text: batches[0][0]})\n",
    "\n",
    "\n",
    "                            for batch_i, (x, y) in enumerate(batches):\n",
    "                                feed = {\n",
    "                                    input_text: x,\n",
    "                                    targets: y,\n",
    "                                    initial_state: state,\n",
    "                                    lr: learning_rate}\n",
    "                                train_loss, state, _ = sess.run([cost, final_state, train_op], feed)\n",
    "\n",
    "                                # Show every <show_every_n_batches> batches\n",
    "\n",
    "                        print('Batch Size {}, RNN Size {}, Hidden Layers {}, Learning rate {}, train_loss = {}'.format(\n",
    "                                        batch_size,\n",
    "                                        rnn_size,\n",
    "                                        num_laz,\n",
    "                                        learning_rate,\n",
    "                                        train_loss))\n",
    "                        if train_loss < b_t_loss:\n",
    "                            b_batch_size = batch_size\n",
    "                            b_rnn_size = rnn_size\n",
    "                            b_num_laz = num_laz\n",
    "                            b_learning_rate = learning_rate\n",
    "                            b_t_loss = train_loss\n",
    "\n",
    "\n",
    "    print('Best: Batch Size {}, RNN Size {}, Hidden Layers {}, Learning rate {}'.format(\n",
    "                        b_batch_size,\n",
    "                        b_rnn_size,\n",
    "                        b_num_laz,\n",
    "                        b_learning_rate))\n",
    "    num_epochs = 100\n",
    "    num_laz = b_num_laz\n",
    "    batch_size = b_batch_size\n",
    "    rnn_size = b_rnn_size\n",
    "    # Embedding Dimension Size\n",
    "    embed_dim = 256\n",
    "    # Sequence Length\n",
    "    seq_length = 15\n",
    "    # Learning Rate\n",
    "    learning_rate = b_learning_rate\n",
    "    # Show stats for every n number of batches\n",
    "    show_every_n_batches = 1287"
   ]
  },
  {
   "cell_type": "markdown",
   "metadata": {},
   "source": [
    "## Train Using Best Parameters\n",
    "Use the most effecting parameters."
   ]
  },
  {
   "cell_type": "code",
   "execution_count": 24,
   "metadata": {},
   "outputs": [],
   "source": [
    "num_epochs = 100"
   ]
  },
  {
   "cell_type": "markdown",
   "metadata": {},
   "source": [
    "### Build the Graph\n",
    "Build the graph using the neural network you implemented."
   ]
  },
  {
   "cell_type": "code",
   "execution_count": 17,
   "metadata": {},
   "outputs": [],
   "source": [
    "from tensorflow.contrib import seq2seq\n",
    "\n",
    "train_graph = tf.Graph()\n",
    "with train_graph.as_default():\n",
    "    vocab_size = len(int_to_vocab)\n",
    "    input_text, targets, lr = get_inputs()\n",
    "    input_data_shape = tf.shape(input_text)\n",
    "    cell, initial_state = get_init_cell(input_data_shape[0], rnn_size)\n",
    "    logits, final_state = build_nn(cell, rnn_size, input_text, vocab_size, embed_dim)\n",
    "\n",
    "    # Probabilities for generating words\n",
    "    probs = tf.nn.softmax(logits, name='probs')\n",
    "\n",
    "    # Loss function\n",
    "    cost = seq2seq.sequence_loss(\n",
    "        logits,\n",
    "        targets,\n",
    "        tf.ones([input_data_shape[0], input_data_shape[1]]))\n",
    "\n",
    "    # Optimizer\n",
    "    optimizer = tf.train.AdamOptimizer(lr)\n",
    "\n",
    "    # Gradient Clipping\n",
    "    gradients = optimizer.compute_gradients(cost)\n",
    "    capped_gradients = [(tf.clip_by_value(grad, -1., 1.), var) for grad, var in gradients if grad is not None]\n",
    "    train_op = optimizer.apply_gradients(capped_gradients)"
   ]
  },
  {
   "cell_type": "code",
   "execution_count": 18,
   "metadata": {},
   "outputs": [
    {
     "name": "stdout",
     "output_type": "stream",
     "text": [
      "Epoch   0 Batch    0/643   train_loss = 10.921\n",
      "Epoch   1 Batch    0/643   train_loss = 5.346\n",
      "Epoch   2 Batch    0/643   train_loss = 4.826\n",
      "Epoch   3 Batch    0/643   train_loss = 4.572\n",
      "Epoch   4 Batch    0/643   train_loss = 4.402\n",
      "Epoch   5 Batch    0/643   train_loss = 4.270\n",
      "Epoch   6 Batch    0/643   train_loss = 4.160\n",
      "Epoch   7 Batch    0/643   train_loss = 4.062\n",
      "Epoch   8 Batch    0/643   train_loss = 3.971\n",
      "Epoch   9 Batch    0/643   train_loss = 3.888\n",
      "Epoch  10 Batch    0/643   train_loss = 3.811\n",
      "Epoch  11 Batch    0/643   train_loss = 3.737\n",
      "Epoch  12 Batch    0/643   train_loss = 3.670\n",
      "Epoch  13 Batch    0/643   train_loss = 3.610\n",
      "Epoch  14 Batch    0/643   train_loss = 3.560\n",
      "Epoch  15 Batch    0/643   train_loss = 3.511\n",
      "Epoch  16 Batch    0/643   train_loss = 3.461\n",
      "Epoch  17 Batch    0/643   train_loss = 3.415\n",
      "Epoch  18 Batch    0/643   train_loss = 3.373\n",
      "Epoch  19 Batch    0/643   train_loss = 3.331\n",
      "Epoch  20 Batch    0/643   train_loss = 3.290\n",
      "Epoch  21 Batch    0/643   train_loss = 3.251\n",
      "Epoch  22 Batch    0/643   train_loss = 3.216\n",
      "Epoch  23 Batch    0/643   train_loss = 3.183\n",
      "Epoch  24 Batch    0/643   train_loss = 3.162\n",
      "Epoch  25 Batch    0/643   train_loss = 3.142\n",
      "Epoch  26 Batch    0/643   train_loss = 3.119\n",
      "Epoch  27 Batch    0/643   train_loss = 3.098\n",
      "Epoch  28 Batch    0/643   train_loss = 3.081\n",
      "Epoch  29 Batch    0/643   train_loss = 3.056\n",
      "Epoch  30 Batch    0/643   train_loss = 3.026\n",
      "Epoch  31 Batch    0/643   train_loss = 3.004\n",
      "Epoch  32 Batch    0/643   train_loss = 2.981\n",
      "Epoch  33 Batch    0/643   train_loss = 2.958\n",
      "Epoch  34 Batch    0/643   train_loss = 2.940\n",
      "Epoch  35 Batch    0/643   train_loss = 2.925\n",
      "Epoch  36 Batch    0/643   train_loss = 2.918\n",
      "Epoch  37 Batch    0/643   train_loss = 2.898\n",
      "Epoch  38 Batch    0/643   train_loss = 2.883\n",
      "Epoch  39 Batch    0/643   train_loss = 2.863\n",
      "Epoch  40 Batch    0/643   train_loss = 2.847\n",
      "Epoch  41 Batch    0/643   train_loss = 2.827\n",
      "Epoch  42 Batch    0/643   train_loss = 2.810\n",
      "Epoch  43 Batch    0/643   train_loss = 2.795\n",
      "Epoch  44 Batch    0/643   train_loss = 2.783\n",
      "Epoch  45 Batch    0/643   train_loss = 2.772\n",
      "Epoch  46 Batch    0/643   train_loss = 2.764\n",
      "Epoch  47 Batch    0/643   train_loss = 2.751\n",
      "Epoch  48 Batch    0/643   train_loss = 2.745\n",
      "Epoch  49 Batch    0/643   train_loss = 2.733\n",
      "Model Trained and Saved\n"
     ]
    }
   ],
   "source": [
    "batches = get_batches(int_text, batch_size, seq_length)\n",
    "\n",
    "with tf.Session(graph=train_graph) as sess:\n",
    "    sess.run(tf.global_variables_initializer())\n",
    "\n",
    "    for epoch_i in range(num_epochs):\n",
    "        state = sess.run(initial_state, {input_text: batches[0][0]})\n",
    "\n",
    "        \n",
    "        for batch_i, (x, y) in enumerate(batches):\n",
    "            feed = {\n",
    "                input_text: x,\n",
    "                targets: y,\n",
    "                initial_state: state,\n",
    "                lr: learning_rate}\n",
    "            train_loss, state, _ = sess.run([cost, final_state, train_op], feed)\n",
    "\n",
    "            # Show every <show_every_n_batches> batches\n",
    "            if (epoch_i * len(batches) + batch_i) % len(batches) == 0:\n",
    "                print('Epoch {:>3} Batch {:>4}/{}   train_loss = {:.3f}'.format(\n",
    "                    epoch_i,\n",
    "                    batch_i,\n",
    "                    len(batches),\n",
    "                    train_loss))\n",
    "\n",
    "    # Save Model\n",
    "    saver = tf.train.Saver()\n",
    "    saver.save(sess, save_dir)\n",
    "    print('Model Trained and Saved')"
   ]
  },
  {
   "cell_type": "markdown",
   "metadata": {},
   "source": [
    "## Save Parameters\n",
    "Save `seq_length` and `save_dir` for generating a new TV script."
   ]
  },
  {
   "cell_type": "code",
   "execution_count": 19,
   "metadata": {},
   "outputs": [],
   "source": [
    "# Save parameters for checkpoint\n",
    "helper.save_params((seq_length, save_dir))"
   ]
  },
  {
   "cell_type": "markdown",
   "metadata": {},
   "source": [
    "# Checkpoint"
   ]
  },
  {
   "cell_type": "code",
   "execution_count": 20,
   "metadata": {},
   "outputs": [],
   "source": [
    "import tensorflow as tf\n",
    "import numpy as np\n",
    "import helper\n",
    "\n",
    "_, vocab_to_int, int_to_vocab, token_dict = helper.load_preprocess()\n",
    "seq_length, load_dir = helper.load_params()"
   ]
  },
  {
   "cell_type": "markdown",
   "metadata": {},
   "source": [
    "## Implement Generate Functions\n",
    "### Get Tensors\n",
    "Get tensors from `loaded_graph` using the function [`get_tensor_by_name()`](https://www.tensorflow.org/api_docs/python/tf/Graph#get_tensor_by_name).  Get the tensors using the following names:\n",
    "- \"input:0\"\n",
    "- \"initial_state:0\"\n",
    "- \"final_state:0\"\n",
    "- \"probs:0\"\n",
    "\n",
    "Return the tensors in the following tuple `(InputTensor, InitialStateTensor, FinalStateTensor, ProbsTensor)` "
   ]
  },
  {
   "cell_type": "code",
   "execution_count": 21,
   "metadata": {},
   "outputs": [],
   "source": [
    "def get_tensors(loaded_graph):\n",
    "    \"\"\"\n",
    "    Get input, initial state, final state, and probabilities tensor from <loaded_graph>\n",
    "    :param loaded_graph: TensorFlow graph loaded from file\n",
    "    :return: Tuple (InputTensor, InitialStateTensor, FinalStateTensor, ProbsTensor)\n",
    "    \"\"\"\n",
    "    InputTensor = loaded_graph.get_tensor_by_name('input:0')\n",
    "    InitialStateTensor = loaded_graph.get_tensor_by_name('initial_state:0')\n",
    "    FinalStateTensor = loaded_graph.get_tensor_by_name('final_state:0')\n",
    "    ProbsTensor = loaded_graph.get_tensor_by_name('probs:0')\n",
    "    \n",
    "    return (InputTensor, InitialStateTensor, FinalStateTensor, ProbsTensor)\n"
   ]
  },
  {
   "cell_type": "markdown",
   "metadata": {},
   "source": [
    "### Choose Word\n",
    "Implement the `pick_word()` function to select the next word using `probabilities`."
   ]
  },
  {
   "cell_type": "code",
   "execution_count": 22,
   "metadata": {},
   "outputs": [],
   "source": [
    "def pick_word(probabilities, int_to_vocab, top_n=5):\n",
    "    \"\"\"\n",
    "    Pick the next word in the generated text\n",
    "    :param probabilities: Probabilites of the next word\n",
    "    :param int_to_vocab: Dictionary of word ids as the keys and words as the values\n",
    "    :return: String of the predicted word\n",
    "    \"\"\"\n",
    "   \n",
    "    p = np.squeeze(probabilities)\n",
    "    p[np.argsort(p)[:-top_n]] = 0\n",
    "    p = p / np.sum(p)\n",
    "    c = np.random.choice(list(int_to_vocab.values()), 1, p=p)[0]\n",
    "    return c\n"
   ]
  },
  {
   "cell_type": "markdown",
   "metadata": {},
   "source": [
    "## Generate TV Script\n",
    "This will generate the TV script for you.  Set `gen_length` to the length of TV script you want to generate."
   ]
  },
  {
   "cell_type": "code",
   "execution_count": 23,
   "metadata": {},
   "outputs": [
    {
     "name": "stdout",
     "output_type": "stream",
     "text": [
      "INFO:tensorflow:Restoring parameters from ./save\n",
      "moe_szyslak:(incredulous) i don't care. i can't believe it was a lot of things, and i didn't. you know, you know, i think we should have it in the trunk.\n",
      "homer_simpson:(annoyed grunt) i can't believe you're eavesdropping on my cheek.\n",
      "(simpson home: int. simpson house - dining room - evening)\n",
      "homer_simpson: hey, hey, you heard me!\n",
      "homer_simpson: hey, if you ever need to get me back to the grocery store!\n",
      "c_montgomery_burns:(to bart) shut up.\n",
      "homer_simpson:(to bart) i am a lucky person, but i'm sure he'll be... i...\n",
      "homer_simpson:(mouth full) you don't even know how to say...\n",
      "homer_simpson:(chuckles) well, it looks like you have a great gift, but you can't keep this up, bart.\n",
      "marge_simpson: i can't believe the others will be in...\n",
      "(house: ext. house - night)\n",
      "homer_simpson:(chuckles) i guess you don't know.\n"
     ]
    }
   ],
   "source": [
    "gen_length = 200\n",
    "# homer_simpson, moe_szyslak, or Barney_Gumble\n",
    "prime_word = 'moe_szyslak'\n",
    "\n",
    "loaded_graph = tf.Graph()\n",
    "with tf.Session(graph=loaded_graph) as sess:\n",
    "    # Load saved model\n",
    "    loader = tf.train.import_meta_graph(load_dir + '.meta')\n",
    "    loader.restore(sess, load_dir)\n",
    "\n",
    "    # Get Tensors from loaded model\n",
    "    input_text, initial_state, final_state, probs = get_tensors(loaded_graph)\n",
    "\n",
    "    # Sentences generation setup\n",
    "    gen_sentences = [prime_word + ':']\n",
    "    prev_state = sess.run(initial_state, {input_text: np.array([[1]])})\n",
    "\n",
    "    # Generate sentences\n",
    "    for n in range(gen_length):\n",
    "        # Dynamic Input\n",
    "        \n",
    "        dyn_input = [[vocab_to_int[word] for word in gen_sentences[-seq_length:]]]\n",
    "        dyn_seq_length = len(dyn_input[0])\n",
    "\n",
    "        # Get Prediction\n",
    "        probabilities, prev_state = sess.run(\n",
    "            [probs, final_state],\n",
    "            {input_text: dyn_input, initial_state: prev_state})\n",
    "        \n",
    "        pred_word = pick_word(probabilities[dyn_seq_length-1], int_to_vocab)\n",
    "        'pred_word = pick_word(probabilities[: , dyn_seq_length-1], int_to_vocab)'                \n",
    "\n",
    "        gen_sentences.append(pred_word)\n",
    "    \n",
    "    # Remove tokens\n",
    "    tv_script = ' '.join(gen_sentences)\n",
    "    for key, token in token_dict.items():\n",
    "        ending = ' ' if key in ['\\n', '(', '\"'] else ''\n",
    "        tv_script = tv_script.replace(' ' + token.lower(), key)\n",
    "    tv_script = tv_script.replace('\\n ', '\\n')\n",
    "    tv_script = tv_script.replace('( ', '(')\n",
    "        \n",
    "    print(tv_script)"
   ]
  },
  {
   "cell_type": "markdown",
   "metadata": {},
   "source": [
    "# The TV Script is Nonsensical\n",
    "The script doesnt make much sense, only a small amount of data was used... Many more improvements to make to improve the training... but the fundamentals are there..."
   ]
  }
 ],
 "metadata": {
  "kernelspec": {
   "display_name": "Python 3",
   "language": "python",
   "name": "python3"
  },
  "language_info": {
   "codemirror_mode": {
    "name": "ipython",
    "version": 3
   },
   "file_extension": ".py",
   "mimetype": "text/x-python",
   "name": "python",
   "nbconvert_exporter": "python",
   "pygments_lexer": "ipython3",
   "version": "3.5.5"
  },
  "widgets": {
   "state": {},
   "version": "1.1.2"
  }
 },
 "nbformat": 4,
 "nbformat_minor": 1
}
